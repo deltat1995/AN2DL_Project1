{
 "cells": [
  {
   "cell_type": "markdown",
   "metadata": {},
   "source": [
    "# FINE TUNING OF OUR PREVIOUSLY TRAINED MODEL \n"
   ]
  },
  {
   "cell_type": "markdown",
   "metadata": {},
   "source": [
    "STEP 1: preprocess the dataset at disposal and import needed libraries "
   ]
  },
  {
   "cell_type": "code",
   "execution_count": null,
   "metadata": {},
   "outputs": [],
   "source": [
    "from IPython.core.interactiveshell import InteractiveShell\n",
    "InteractiveShell.ast_node_interactivity = \"all\""
   ]
  },
  {
   "cell_type": "code",
   "execution_count": null,
   "metadata": {},
   "outputs": [],
   "source": [
    "import os\n",
    "import tensorflow as tf\n",
    "import numpy as np\n",
    "\n",
    "SEED = 345\n",
    "tf.random.set_seed(SEED)  \n",
    "\n",
    "cwd = os.getcwd()"
   ]
  },
  {
   "cell_type": "code",
   "execution_count": null,
   "metadata": {},
   "outputs": [],
   "source": [
    "from tensorflow.keras.preprocessing.image import ImageDataGenerator\n",
    "\n",
    "apply_data_augmentation = True\n",
    "\n",
    "# Create training ImageDataGenerator object\n",
    "if apply_data_augmentation:\n",
    "    train_data_gen = ImageDataGenerator(rotation_range=10,\n",
    "                                        width_shift_range=10,\n",
    "                                        height_shift_range=10,\n",
    "                                        zoom_range=0.3,\n",
    "                                        horizontal_flip=True,\n",
    "                                        vertical_flip=True,\n",
    "                                        fill_mode='constant', #da provare nearest\n",
    "                                        cval=0,\n",
    "                                        rescale=1./255)\n",
    "else:\n",
    "    train_data_gen = ImageDataGenerator(rescale=1./255)\n",
    "\n",
    "valid_data_gen = ImageDataGenerator(rescale=1./255)"
   ]
  },
  {
   "cell_type": "code",
   "execution_count": null,
   "metadata": {},
   "outputs": [],
   "source": [
    "dataset_dir = os.path.join(cwd, 'newDataset')\n",
    "\n",
    "bs = 5\n",
    "\n",
    "img_h=500\n",
    "img_w=500\n",
    "\n",
    "num_classes= 20\n",
    "\n",
    "classes = [ 'owl',    # 0\n",
    "            'galaxy', # 1\n",
    "            'lightning', # 2\n",
    "            'wine-bottle', # 3\n",
    "            't-shirt', # 4\n",
    "            'waterfall', # 5\n",
    "            'sword', # 6\n",
    "            'school-bus', # 7\n",
    "            'calculator', # 8\n",
    "            'sheet-music', # 9\n",
    "            'airplanes', # 10\n",
    "            'lightbulb', # 11\n",
    "            'skyscraper', # 12\n",
    "            'mountain-bike', # 13\n",
    "            'fireworks', # 14\n",
    "            'computer-monitor', # 15\n",
    "            'bear', # 16\n",
    "            'grand-piano', # 17\n",
    "            'kangaroo', # 18\n",
    "            'laptop']       # 19\n",
    "\n",
    "\n",
    "# Training\n",
    "training_dir = os.path.join(dataset_dir, 'training')\n",
    "train_gen = train_data_gen.flow_from_directory(training_dir,\n",
    "                                               target_size=(img_h,img_w),\n",
    "                                               batch_size=bs, \n",
    "                                               classes=classes,\n",
    "                                               class_mode='categorical',\n",
    "                                               shuffle=True,\n",
    "                                               seed=SEED)  # targets are directly converted into one-hot vectors\n",
    "validation_dir = os.path.join(dataset_dir, 'validation')\n",
    "valid_gen = valid_data_gen.flow_from_directory(validation_dir,\n",
    "                                               target_size=(img_h,img_w),\n",
    "                                               batch_size=bs, \n",
    "                                               classes=classes,\n",
    "                                               class_mode='categorical',\n",
    "                                               shuffle=False,\n",
    "                                               seed=SEED)  # targets are directly converted into one-hot vectors\n",
    "\n",
    "\n",
    "class_indices = train_gen.class_indices\n",
    "class_indices"
   ]
  },
  {
   "cell_type": "markdown",
   "metadata": {},
   "source": [
    "## TRANSFER LEARNING "
   ]
  },
  {
   "cell_type": "markdown",
   "metadata": {},
   "source": [
    "we import the model trained before and fine tune it. The starting layer can be trimmed in order to better adapt the model "
   ]
  },
  {
   "cell_type": "code",
   "execution_count": null,
   "metadata": {},
   "outputs": [],
   "source": [
    "#define the input images dimesions and the directory of the model \n",
    "cwd = os.getcwd()\n",
    "model_path = os.path.join(cwd, 'my_model')\n",
    "Input _shape = (img_h, img_w, 3)\n",
    "\n",
    "#load the entire model and check everything is correct \n",
    "from keras.models import load_model\n",
    "\n",
    "new_model_ft= load_model(model_path)\n",
    "\n",
    "new_model_ft.summary()\n",
    "new_model_ft.summary.layers"
   ]
  },
  {
   "cell_type": "code",
   "execution_count": null,
   "metadata": {},
   "outputs": [],
   "source": [
    "finetuning = True\n",
    "\n",
    "if finetuning:\n",
    "    freeze_until = 10 # layer from which we want to fine-tune\n",
    "    \n",
    "    for layer in new_model_ft.layers[:freeze_until]:\n",
    "        layer.trainable = False\n",
    "else:\n",
    "    new_model_ft.trainable = False\n",
    "    \n",
    "model = tf.keras.Sequential()\n",
    "model.add(new_model_ft)\n",
    "model.add(tf.keras.layers.Flatten())\n",
    "model.add(tf.keras.layers.Dense(units=512, activation='relu'))\n",
    "model.add(tf.keras.layers.Dense(units=num_classes, activation='softmax'))"
   ]
  },
  {
   "cell_type": "code",
   "execution_count": null,
   "metadata": {},
   "outputs": [],
   "source": [
    "# I can visualise the model \n",
    "model.summary()\n",
    "\n",
    "model.weights "
   ]
  },
  {
   "cell_type": "markdown",
   "metadata": {},
   "source": [
    "## OPTIMIZER, LEARNING RATE AND COMPILE "
   ]
  },
  {
   "cell_type": "code",
   "execution_count": null,
   "metadata": {},
   "outputs": [],
   "source": [
    "#define loss funciton, learning rate and optimizer \n",
    "loss = tf.keras.losses.CategoricalCrossentropy()\n",
    "\n",
    "lr = 1e-2\n",
    "optimizer = tf.keras.optimizers.Adam(learning_rate=lr)\n",
    "\n",
    "# Validation metrics\n",
    "metrics = ['accuracy']\n",
    "\n",
    "# Compile Model\n",
    "model.compile(optimizer=optimizer, loss=loss, metrics=metrics)"
   ]
  },
  {
   "cell_type": "markdown",
   "metadata": {},
   "source": [
    "## CALLBACKS "
   ]
  },
  {
   "cell_type": "markdown",
   "metadata": {},
   "source": [
    "early stopping can be used or not, reduces risk of overfitting "
   ]
  },
  {
   "cell_type": "code",
   "execution_count": null,
   "metadata": {},
   "outputs": [],
   "source": [
    "import os\n",
    "from datetime import datetime\n",
    "\n",
    "\n",
    "cwd = os.getcwd()\n",
    "\n",
    "exps_dir = os.path.join(cwd, 'classification_experiments')\n",
    "if not os.path.exists(exps_dir):\n",
    "    os.makedirs(exps_dir)\n",
    "\n",
    "now = datetime.now().strftime('%b%d_%H-%M-%S')\n",
    "\n",
    "model_name = 'CNN+TF'\n",
    "\n",
    "exp_dir = os.path.join(exps_dir, model_name + '_' + str(now))\n",
    "if not os.path.exists(exp_dir):\n",
    "    os.makedirs(exp_dir)\n",
    "    \n",
    "callbacks = []\n",
    "\n",
    "# Model checkpoint\n",
    "# ----------------\n",
    "ckpt_dir = os.path.join(exp_dir, 'ckpts')\n",
    "if not os.path.exists(ckpt_dir):\n",
    "    os.makedirs(ckpt_dir)\n",
    "\n",
    "ckpt_callback = tf.keras.callbacks.ModelCheckpoint(filepath=os.path.join(ckpt_dir, 'cp_{epoch:02d}.ckpt'),\n",
    "                                                   monitor='val_acc',\n",
    "                                                   save_weights_only=False,\n",
    "                                                   save_best_only=True,\n",
    "                                                   period=5) \n",
    "callbacks.append(ckpt_callback)\n",
    "\n",
    "# Visualize Learning on Tensorboard\n",
    "# ---------------------------------\n",
    "tb_dir = os.path.join(exp_dir, 'tb_logs')\n",
    "if not os.path.exists(tb_dir):\n",
    "    os.makedirs(tb_dir)\n",
    "    \n",
    "# By default shows losses and metrics for both training and validation\n",
    "tb_callback = tf.keras.callbacks.TensorBoard(log_dir=tb_dir,\n",
    "                                             profile_batch=0,\n",
    "                                             histogram_freq=1)  # if 1 shows weights histograms\n",
    "callbacks.append(tb_callback)\n",
    "\n",
    "# Early Stopping\n",
    "# --------------\n",
    "early_stop = True\n",
    "if early_stop:\n",
    "    es_callback = tf.keras.callbacks.EarlyStopping(monitor='val_loss', patience=10)\n",
    "    callbacks.append(es_callback)\n",
    "\n",
    "model.fit_generator(\n",
    "    train_gen,\n",
    "    validation_data = valid_gen, \n",
    "    epochs = 100)\n",
    "\n"
   ]
  },
  {
   "cell_type": "markdown",
   "metadata": {},
   "source": [
    "## EXPORT IN CSV AND RESULTS "
   ]
  },
  {
   "cell_type": "markdown",
   "metadata": {},
   "source": [
    "test the model afterwards"
   ]
  },
  {
   "cell_type": "code",
   "execution_count": null,
   "metadata": {},
   "outputs": [],
   "source": [
    "from datetime import datetime\n",
    "\n",
    "def create_csv(results, results_dir='./output/'):\n",
    "\n",
    "    csv_fname = 'results_'\n",
    "    csv_fname += datetime.now().strftime('%b%d_%H-%M-%S') + '.csv'\n",
    "\n",
    "    with open(os.path.join(results_dir, csv_fname), 'w') as f:\n",
    "\n",
    "        f.write('Id,Category\\n')\n",
    "\n",
    "        for key, value in results.items():\n",
    "            f.write(key + ',' + str(value) + '\\n')"
   ]
  },
  {
   "cell_type": "code",
   "execution_count": null,
   "metadata": {},
   "outputs": [],
   "source": [
    "import os\n",
    "from PIL import Image\n",
    "import numpy as np\n",
    "\n",
    "image_filenames = next(os.walk('./startDataset/test'))[2]                          \n",
    "results = {}\n",
    "\n",
    "for image_name in image_filenames:\n",
    "    img = Image.open('./Kaggle/test/'+image_name).convert('RGB')\n",
    "    img = img.resize((img_w,img_h))\n",
    "    img_array = np.array(img)\n",
    "    img_array = img_array*1./255 #normalization\n",
    "    img_array = np.expand_dims(img_array,0) #needed for fixed dim of input in the model\n",
    "    output = model.predict(img_array)\n",
    "    prediction = np.where(output == np.max(output))[1]  \n",
    "    print('Image: '+str(image_name)+ ' Class: '+ list(class_indices.keys())[int(prediction)])\n",
    "    results[image_name] = int(prediction)\n",
    "    \n",
    "create_csv(results)\n"
   ]
  }
 ],
 "metadata": {
  "kernelspec": {
   "display_name": "Python 3",
   "language": "python",
   "name": "python3"
  },
  "language_info": {
   "codemirror_mode": {
    "name": "ipython",
    "version": 3
   },
   "file_extension": ".py",
   "mimetype": "text/x-python",
   "name": "python",
   "nbconvert_exporter": "python",
   "pygments_lexer": "ipython3",
   "version": "3.7.4"
  }
 },
 "nbformat": 4,
 "nbformat_minor": 2
}
